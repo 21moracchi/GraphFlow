{
 "cells": [
  {
   "cell_type": "markdown",
   "metadata": {},
   "source": [
    "# Proxyflow demo"
   ]
  },
  {
   "cell_type": "markdown",
   "metadata": {},
   "source": [
    "### Fault scenarios recognition\n"
   ]
  },
  {
   "cell_type": "markdown",
   "metadata": {},
   "source": [
    "Now we present simulations in faulted zones, that are ruled by another class, SimWithFault. \n"
   ]
  },
  {
   "cell_type": "code",
   "execution_count": 1,
   "metadata": {},
   "outputs": [
    {
     "name": "stderr",
     "output_type": "stream",
     "text": [
      "WARNING: 2024-07-12 11:13:51,867: __init__.py:18 -- Cannot use LoopProjectfileProcessor: Loop project file cannot be imported, try installing LoopProjectFile\n",
      "WARNING: 2024-07-12 11:13:51,901: __init__.py:64 -- Can't import surfepy - to install \"pip install surfe\"\n",
      "WARNING: 2024-07-12 11:13:51,902: __init__.py:66 -- Using experimental interpolators: P1Interpolator and P2Interpolator\n",
      "C:\\Users\\00102908\\Anaconda3\\envs\\floopy\\lib\\site-packages\\skimage\\restoration\\inpaint.py:6: DeprecationWarning: Please use `laplace` from the `scipy.ndimage` namespace, the `scipy.ndimage.filters` namespace is deprecated.\n",
      "  from scipy.ndimage.filters import laplace\n",
      "C:\\Users\\00102908\\Anaconda3\\envs\\floopy\\lib\\site-packages\\skimage\\filters\\_unsharp_mask.py:2: DeprecationWarning: Please use `gaussian_filter` from the `scipy.ndimage` namespace, the `scipy.ndimage.filters` namespace is deprecated.\n",
      "  from scipy.ndimage.filters import gaussian_filter\n"
     ]
    }
   ],
   "source": [
    "### IMPORTS\n",
    "import sys\n",
    "sys.path.append('..')\n",
    "import os\n",
    "current_path = os.getcwd()\n",
    "folder = os.path.abspath(os.path.join(current_path, os.pardir))\n",
    "from classes.graph_simulation import SimWithFault\n",
    "import numpy as np\n",
    "import matplotlib.pyplot as plt\n",
    "import matplotlib.colors as colors\n",
    "generate_MG_realisations = False \n",
    "run_modflow = False\n",
    "build_graph = True"
   ]
  },
  {
   "cell_type": "markdown",
   "metadata": {},
   "source": [
    "In this synthetic case, we chose to represent 3 faults. A simplified modelisation of faults conductivity is to assume that they can behave as a path (enhanced conductivity) or a barrier (reduced conductivity) for the contaminant. This leads us to $2^3 = 8$ fault scenarios.\n",
    " \n",
    "To ensure variability of the results, we also choose 10 different locations of sources.\n",
    "In the end, we have 80 different scenarios. Each scenario has an id, and in this case the place digit coresponds to the source location, the tens number to the fault scenario."
   ]
  },
  {
   "cell_type": "code",
   "execution_count": 2,
   "metadata": {},
   "outputs": [
    {
     "name": "stdout",
     "output_type": "stream",
     "text": [
      "2024-07-12 11:13:55.283726 - LOADING K FIELD\n",
      "2024-07-12 11:13:55.290709 - LOADING MODFLOW RESULTS\n",
      "#########################\n",
      "The different fault scenarios (1 corresponds to a preferential path, -1 to a barrier)\n",
      "[[-1 -1 -1]\n",
      " [-1 -1  1]\n",
      " [-1  1 -1]\n",
      " [ 1 -1 -1]\n",
      " [-1  1  1]\n",
      " [ 1  1 -1]\n",
      " [ 1 -1  1]\n",
      " [ 1  1  1]]\n",
      "#########################\n"
     ]
    }
   ],
   "source": [
    "parameters = {'location_array':np.array([[2011.8216247 , 2950.46369633,  512.5       ],\n",
    "       [1644.15961272, 2948.64944714,  512.5       ],\n",
    "       [1811.83145201, 2423.32644897,  512.5       ],\n",
    "       [2327.70259382, 2409.19913637,  512.5       ],\n",
    "       [2049.59368767, 2027.55911324,  512.5       ],\n",
    "       [2253.51310867, 2538.14331322,  512.5       ],\n",
    "       [1829.7317165 , 2788.42870343,  512.5       ],\n",
    "       [1803.19482929, 2453.49788948,  512.5       ],\n",
    "       [1634.04169725, 2403.11298645,  512.5       ],\n",
    "       [1703.45524068, 2262.31334044,  512.5       ]])}\n",
    "\n",
    "sim = SimWithFault(data_path=os.path.join(folder,'data/fault_sim'), parameters_dict =parameters)\n",
    "scenario = sim.instantiate_scenario(46)\n",
    "sim.generate_K_field(scenario)\n",
    "\n",
    "sim.generate_sim_data()\n",
    "if run_modflow:\n",
    "    sim.run_MODFLOW(scenario)\n",
    "sim.load_hydro_data(scenario)\n",
    "print('#########################')\n",
    "print('The different fault scenarios (1 corresponds to a preferential path, -1 to a barrier)')\n",
    "print(sim.parameters_dict['fault_array'])\n",
    "print('#########################')\n"
   ]
  },
  {
   "cell_type": "markdown",
   "metadata": {},
   "source": [
    "We can visualise faults and source locations"
   ]
  },
  {
   "cell_type": "code",
   "execution_count": 3,
   "metadata": {},
   "outputs": [
    {
     "data": {
      "text/plain": [
       "<matplotlib.legend.Legend at 0x1e6b1a98040>"
      ]
     },
     "execution_count": 3,
     "metadata": {},
     "output_type": "execute_result"
    },
    {
     "data": {
      "image/png": "[encoded data removed]",
      "text/plain": [
       "<Figure size 432x288 with 2 Axes>"
      ]
     },
     "metadata": {
      "needs_background": "light"
     },
     "output_type": "display_data"
    }
   ],
   "source": [
    "plt.imshow(np.sum(scenario.realK, axis = 2), norm=colors.LogNorm())\n",
    "plt.colorbar()\n",
    "plt.xlabel('y')\n",
    "plt.ylabel('x')\n",
    "plt.scatter(sim.parameters_dict['location_array'][:,1]//sim.dy,sim.parameters_dict['location_array'][:,0]//sim.dx, c= 'C1', marker = 'x', label = 'source')\n",
    "plt.legend()"
   ]
  },
  {
   "cell_type": "markdown",
   "metadata": {},
   "source": [
    "Now, we can execute the main function exactly as the precedent case."
   ]
  },
  {
   "cell_type": "code",
   "execution_count": 4,
   "metadata": {},
   "outputs": [
    {
     "name": "stdout",
     "output_type": "stream",
     "text": [
      "2024-07-12 11:13:56.302845 - LOADING K FIELD\n",
      "2024-07-12 11:13:56.303843 - LOADING MODFLOW RESULTS\n",
      "2024-07-12 11:13:56.367673 - BUILDING GRAPH\n",
      "2024-07-12 11:13:56.367673 BUILDING GRAPH\n",
      "Running topological_analysis version 0.1.19\n",
      "2024-07-12 11:14:27.474624 GRAPH BUILT\n",
      "2024-07-12 11:14:27.474624 - COMPUTING DIJKSTRA WITH IGRAPH\n",
      "2024-07-12 11:14:27.997231 - DIJKSTRA COMPUTED\n",
      "2024-07-12 11:14:27.997231 - END\n"
     ]
    }
   ],
   "source": [
    "sim.main(scenario, build_graph = build_graph, run_MODFLOW = run_modflow )"
   ]
  },
  {
   "cell_type": "markdown",
   "metadata": {},
   "source": [
    "Visualisation in 3D, see how both dijkstra paths and concentration are attracted by high conductivity pathways  :"
   ]
  },
  {
   "cell_type": "code",
   "execution_count": 5,
   "metadata": {},
   "outputs": [],
   "source": [
    "# sim.plot_graph_3D(scenario, visu = 'notebook')"
   ]
  },
  {
   "cell_type": "markdown",
   "metadata": {},
   "source": [
    "Fault recognition scenarios is ruled by CrossComparison class."
   ]
  },
  {
   "cell_type": "code",
   "execution_count": 7,
   "metadata": {},
   "outputs": [],
   "source": [
    "from classes.fault_recognition import  CrossComparison\n",
    "sim = CrossComparison(data_path='../data/fault_sim', parameters_dict =parameters)"
   ]
  },
  {
   "cell_type": "markdown",
   "metadata": {},
   "source": [
    "Looking at the variability of the distances distribution as a function of the fault scenarios, for a constant source location"
   ]
  },
  {
   "cell_type": "code",
   "execution_count": 8,
   "metadata": {},
   "outputs": [
    {
     "ename": "AttributeError",
     "evalue": "'Scenario' object has no attribute 'realK'",
     "output_type": "error",
     "traceback": [
      "\u001b[1;31m---------------------------------------------------------------------------\u001b[0m",
      "\u001b[1;31mAttributeError\u001b[0m                            Traceback (most recent call last)",
      "\u001b[1;32m~\\AppData\\Local\\Temp/ipykernel_19556/1219759382.py\u001b[0m in \u001b[0;36m<module>\u001b[1;34m\u001b[0m\n\u001b[1;32m----> 1\u001b[1;33m \u001b[0m_\u001b[0m \u001b[1;33m=\u001b[0m \u001b[0msim\u001b[0m\u001b[1;33m.\u001b[0m\u001b[0mshow_variability\u001b[0m\u001b[1;33m(\u001b[0m\u001b[1;36m6\u001b[0m\u001b[1;33m,\u001b[0m \u001b[0mshow\u001b[0m \u001b[1;33m=\u001b[0m \u001b[1;34m'distance'\u001b[0m\u001b[1;33m)\u001b[0m\u001b[1;33m\u001b[0m\u001b[1;33m\u001b[0m\u001b[0m\n\u001b[0m",
      "\u001b[1;32m~\\UWA\\ProxyFlow\\demo\\..\\classes\\fault_recognition.py\u001b[0m in \u001b[0;36mshow_variability\u001b[1;34m(self, source_id, nb_pixels, show)\u001b[0m\n\u001b[0;32m     68\u001b[0m             \u001b[1;32mexcept\u001b[0m\u001b[1;33m:\u001b[0m\u001b[1;33m\u001b[0m\u001b[1;33m\u001b[0m\u001b[0m\n\u001b[0;32m     69\u001b[0m                 \u001b[1;32mpass\u001b[0m\u001b[1;33m\u001b[0m\u001b[1;33m\u001b[0m\u001b[0m\n\u001b[1;32m---> 70\u001b[1;33m         axs[0, 0].imshow(np.sum(scenario.realK, axis=2),\n\u001b[0m\u001b[0;32m     71\u001b[0m                          origin='upper', norm=colors.LogNorm(), cmap='viridis')\n\u001b[0;32m     72\u001b[0m         axs[0, 0].scatter(scenario.ctm_pty//self.dy,\n",
      "\u001b[1;31mAttributeError\u001b[0m: 'Scenario' object has no attribute 'realK'"
     ]
    },
    {
     "data": {
      "image/png": "[encoded data removed]",
      "text/plain": [
       "<Figure size 432x288 with 9 Axes>"
      ]
     },
     "metadata": {
      "needs_background": "light"
     },
     "output_type": "display_data"
    }
   ],
   "source": [
    "_ = sim.show_variability(6, show = 'distance')"
   ]
  },
  {
   "cell_type": "markdown",
   "metadata": {},
   "source": [
    "Cross similarity scores between the cumulative mass of scenario 46 and the distances of scenarios 6, 16, 36, 46, 56, 66 and 76."
   ]
  },
  {
   "cell_type": "code",
   "execution_count": null,
   "metadata": {},
   "outputs": [],
   "source": [
    "sim.compute_cross_comparison(scenario)"
   ]
  }
 ],
 "metadata": {
  "kernelspec": {
   "display_name": "Python 3 (ipykernel)",
   "language": "python",
   "name": "python3"
  },
  "language_info": {
   "codemirror_mode": {
    "name": "ipython",
    "version": 3
   },
   "file_extension": ".py",
   "mimetype": "text/x-python",
   "name": "python",
   "nbconvert_exporter": "python",
   "pygments_lexer": "ipython3",
   "version": "3.8.12"
  }
 },
 "nbformat": 4,
 "nbformat_minor": 2
}
